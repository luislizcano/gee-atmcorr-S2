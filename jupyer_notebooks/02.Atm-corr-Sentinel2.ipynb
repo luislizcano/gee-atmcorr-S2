{
 "cells": [
  {
   "cell_type": "code",
   "execution_count": 2,
   "metadata": {
    "collapsed": true
   },
   "outputs": [],
   "source": [
    "import ee\n",
    "from Py6S import *\n",
    "import datetime\n",
    "import math\n",
    "import os\n",
    "import sys\n",
    "sys.path.append(os.path.join(os.path.dirname(os.getcwd()),'bin'))\n",
    "from atmospheric import Atmospheric\n",
    "\n",
    "ee.Initialize()"
   ]
  },
  {
   "cell_type": "code",
   "execution_count": 33,
   "metadata": {},
   "outputs": [],
   "source": [
    "def func1(img):\n",
    "    img = ee.Image(img)\n",
    "    info = img.getInfo()['properties']\n",
    "    scene_date = datetime.datetime.utcfromtimestamp(info['system:time_start']/1000)\n",
    "    solar_z = img.getInfo()['properties']['MEAN_SOLAR_ZENITH_ANGLE']\n",
    "    h2o = Atmospheric.water(geom,img.date()).getInfo()\n",
    "    o3 = Atmospheric.ozone(geom,img.date()).getInfo()\n",
    "    aot = Atmospheric.aerosol(geom,img.date()).getInfo()\n",
    "    SRTM = ee.Image('CGIAR/SRTM90_V4')# Shuttle Radar Topography mission covers *most* of the Earth\n",
    "    alt = SRTM.reduceRegion(reducer = ee.Reducer.mean(),geometry = geom.centroid()).get('elevation').getInfo()\n",
    "    km = alt/1000 # i.e. Py6S uses units of kilometers\n",
    "    # Instantiate\n",
    "    s = SixS()\n",
    "    # Atmospheric constituents\n",
    "    s.atmos_profile = AtmosProfile.UserWaterAndOzone(h2o,o3)\n",
    "    s.aero_profile = AeroProfile.Continental\n",
    "    s.aot550 = aot\n",
    "    # Earth-Sun-satellite geometry\n",
    "    s.geometry = Geometry.User()\n",
    "    s.geometry.view_z = 0               # always NADIR (I think..)\n",
    "    s.geometry.solar_z = solar_z # solar zenith angle\n",
    "    s.geometry.month = scene_date.month # month and day used for Earth-Sun distance\n",
    "    s.geometry.day = scene_date.day     # month and day used for Earth-Sun distance\n",
    "    s.altitudes.set_sensor_satellite_level()\n",
    "    s.altitudes.set_target_custom_altitude(km)\n",
    "    def spectralResponseFunction(bandname):        \n",
    "        \n",
    "        bandSelect = {\n",
    "            'B1':PredefinedWavelengths.S2A_MSI_01,\n",
    "            'B2':PredefinedWavelengths.S2A_MSI_02,\n",
    "            'B3':PredefinedWavelengths.S2A_MSI_03,\n",
    "            'B4':PredefinedWavelengths.S2A_MSI_04,\n",
    "            'B5':PredefinedWavelengths.S2A_MSI_05,\n",
    "            'B6':PredefinedWavelengths.S2A_MSI_06,\n",
    "            'B7':PredefinedWavelengths.S2A_MSI_07,\n",
    "            'B8':PredefinedWavelengths.S2A_MSI_08,\n",
    "            'B8A':PredefinedWavelengths.S2A_MSI_09,\n",
    "            'B9':PredefinedWavelengths.S2A_MSI_10,\n",
    "            'B10':PredefinedWavelengths.S2A_MSI_11,\n",
    "            'B11':PredefinedWavelengths.S2A_MSI_12,\n",
    "            'B12':PredefinedWavelengths.S2A_MSI_13,\n",
    "                        }\n",
    "        return Wavelength(bandSelect[bandname])\n",
    "    def toa_to_rad(bandname):\n",
    "        ESUN = info['SOLAR_IRRADIANCE_'+bandname]\n",
    "        solar_angle_correction = math.cos(math.radians(solar_z))\n",
    "        # Earth-Sun distance (from day of year)\n",
    "        doy = scene_date.timetuple().tm_yday\n",
    "        d = 1 - 0.01672 * math.cos(0.9856 * (doy-4))# http://physics.stackexchange.com/questions/177949/earth-sun-distance-on-a-given-day-of-the-year\n",
    "        # conversion factor\n",
    "        multiplier = ESUN*solar_angle_correction/(math.pi*d**2)\n",
    "        # at-sensor radiance\n",
    "        rad = img.select(bandname).multiply(multiplier)\n",
    "        return rad\n",
    "    def surface_reflectance(bandname):\n",
    "        # run 6S for this waveband\n",
    "        s.wavelength = spectralResponseFunction(bandname)\n",
    "        s.run()\n",
    "\n",
    "        # extract 6S outputs\n",
    "        Edir = s.outputs.direct_solar_irradiance             #direct solar irradiance\n",
    "        Edif = s.outputs.diffuse_solar_irradiance            #diffuse solar irradiance\n",
    "        Lp   = s.outputs.atmospheric_intrinsic_radiance      #path radiance\n",
    "        absorb  = s.outputs.trans['global_gas'].upward       #absorption transmissivity\n",
    "        scatter = s.outputs.trans['total_scattering'].upward #scattering transmissivity\n",
    "        tau2 = absorb*scatter                                #total transmissivity\n",
    "\n",
    "        # radiance to surface reflectance\n",
    "        rad = toa_to_rad(bandname)\n",
    "        ref = rad.subtract(Lp).multiply(math.pi).divide(tau2*(Edir+Edif))\n",
    "        return ref\n",
    "    \n",
    "    ca  = surface_reflectance('B1')\n",
    "    blue = surface_reflectance('B2')\n",
    "    green = surface_reflectance('B3')\n",
    "    red = surface_reflectance('B4')\n",
    "    nir = surface_reflectance('B8')\n",
    "    swir1 = surface_reflectance('B11')\n",
    "    swir2 = surface_reflectance('B12')\n",
    "    \n",
    "    ref = img.select('QA60').addBands(ca).addBands(blue).addBands(green).addBands(red).addBands(nir).addBands(swir1).addBands(swir2)\n",
    "    \n",
    "    dateString = scene_date.strftime(\"%Y-%m-%d\")\n",
    "    ref = ref.copyProperties(img).set({              \n",
    "                  'AC_date':dateString,\n",
    "                  'AC_aerosol_optical_thickness':aot,\n",
    "                  'AC_water_vapour':h2o,\n",
    "                  'AC_version':'py6S',\n",
    "                  'AC_contact':'ndminhhus@gmail.com',\n",
    "                  'AC_ozone':o3})\n",
    "    \n",
    "\n",
    "    # define YOUR assetID \n",
    "    # in my case it was something like this..\n",
    "    #assetID = 'users/samsammurphy/shared/sentinel2/6S/ESRIN_'+dateString\n",
    "    #assetID = 'users/ndminhhus/eLEAF/nt/s2_SIAC/'+fname,\n",
    "    # # export\n",
    "    fname = ee.String(img.get('system:index')).getInfo()\n",
    "    export = ee.batch.Export.image.toAsset(\\\n",
    "        image=ref,\n",
    "        description= 'S2_BOA_'+fname,\n",
    "        assetId = 'users/ndminhhus/eLEAF/nt/S2_py6S/'+'S2_BOA'+fname,\n",
    "        region = region,\n",
    "        scale = 10,\n",
    "        maxPixels = 1e13)\n",
    "\n",
    "    # # uncomment to run the export\n",
    "    export.start()\n",
    "    print('exporting ' +fname + '--->done')"
   ]
  },
  {
   "cell_type": "code",
   "execution_count": 34,
   "metadata": {},
   "outputs": [],
   "source": [
    "startDate = ee.Date('2018-01-01')\n",
    "endDate = ee.Date('2020-01-01')\n",
    "geom = ee.Geometry.Point(108.91220182000018,11.700863529688942)\n",
    "geom1 = ee.Geometry.Point(108.8619544253213,11.40533502657536)# Ninh Thuan region for lower part (T49PBN)\n",
    "geom2 = ee.Geometry.Point(108.96124878094292,11.799830246236146)# Ninh Thuan region for upper part (T49PBP)\n",
    "\n",
    "region = geom.buffer(55000).bounds().getInfo()['coordinates']"
   ]
  },
  {
   "cell_type": "code",
   "execution_count": 35,
   "metadata": {},
   "outputs": [],
   "source": [
    "# The Sentinel 2 image collection\n",
    "#S2_col = ee.ImageCollection('COPERNICUS/S2').filterBounds(geom1).filterDate(startDate,endDate).filter(ee.Filter.lt('CLOUDY_PIXEL_PERCENTAGE',50))\n",
    "S2_col = ee.ImageCollection('COPERNICUS/S2').filterBounds(geom2).filterDate(startDate,endDate).filter(ee.Filter.lt('CLOUDY_PIXEL_PERCENTAGE',50))"
   ]
  },
  {
   "cell_type": "code",
   "execution_count": 36,
   "metadata": {},
   "outputs": [
    {
     "name": "stdout",
     "output_type": "stream",
     "text": [
      "60\n"
     ]
    }
   ],
   "source": [
    "print(S2_col.size().getInfo())"
   ]
  },
  {
   "cell_type": "code",
   "execution_count": 17,
   "metadata": {
    "collapsed": true
   },
   "outputs": [],
   "source": [
    "S2_list = S2_col.toList(S2_col.size().getInfo())\n",
    "img1 = ee.Image(S2_list.get(9))"
   ]
  },
  {
   "cell_type": "code",
   "execution_count": 18,
   "metadata": {
    "collapsed": true
   },
   "outputs": [],
   "source": [
    "toa = img1\n",
    "boa = ee.Image(func1(toa))"
   ]
  },
  {
   "cell_type": "code",
   "execution_count": 20,
   "metadata": {},
   "outputs": [
    {
     "name": "stdout",
     "output_type": "stream",
     "text": [
      "2018-03-09\n"
     ]
    }
   ],
   "source": [
    "print(boa.getInfo()['properties']['AC_date'])"
   ]
  },
  {
   "cell_type": "code",
   "execution_count": 22,
   "metadata": {},
   "outputs": [
    {
     "data": {
      "text/html": [
       "<img src=\"https://earthengine.googleapis.com/api/thumb?thumbid=2f9b6c935a8b536b4abdd23f2194adac&token=0b066b0c2eb965bf8f0b2419c39829a0\"/>"
      ],
      "text/plain": [
       "<IPython.core.display.Image object>"
      ]
     },
     "metadata": {},
     "output_type": "display_data"
    },
    {
     "data": {
      "text/html": [
       "<img src=\"https://earthengine.googleapis.com/api/thumb?thumbid=24d61ba9a16aaa066624a3e85c26c5a7&token=0272ffbc7ed1b3272a780333d9230ef0\"/>"
      ],
      "text/plain": [
       "<IPython.core.display.Image object>"
      ]
     },
     "metadata": {},
     "output_type": "display_data"
    }
   ],
   "source": [
    "from IPython.display import display, Image\n",
    "\n",
    "channels = ['B4','B3','B2']\n",
    "\n",
    "original = Image(url=toa.select(channels).getThumbUrl({\n",
    "                'region':region,\n",
    "                'min':0,\n",
    "                'max':3500\n",
    "                }))\n",
    "\n",
    "corrected = Image(url=ee.Image(boa).select(channels).getThumbUrl({\n",
    "                'region':region,\n",
    "                'min':0,\n",
    "                'max':3500\n",
    "                }))\n",
    "\n",
    "display(original, corrected)"
   ]
  },
  {
   "cell_type": "code",
   "execution_count": null,
   "metadata": {},
   "outputs": [
    {
     "name": "stdout",
     "output_type": "stream",
     "text": [
      "exporting 20180108T031109_20180108T032345_T49PBN--->done\n",
      "exporting 20180123T032321_20180123T032316_T49PBN--->done\n",
      "exporting 20180202T030931_20180202T031511_T49PBN--->done\n",
      "exporting 20180207T030859_20180207T031350_T49PBN--->done\n",
      "exporting 20180212T030831_20180212T032401_T49PBN--->done\n",
      "exporting 20180217T030759_20180217T031916_T49PBN--->done\n",
      "exporting 20180222T030731_20180222T031550_T49PBN--->done\n",
      "exporting 20180227T030649_20180227T031252_T49PBN--->done\n",
      "exporting 20180304T030621_20180304T031229_T49PBN--->done\n",
      "exporting 20180309T030539_20180309T032200_T49PBN--->done\n",
      "exporting 20180319T030539_20180319T031100_T49PBN--->done\n",
      "exporting 20180329T030539_20180329T032339_T49PBN--->done\n",
      "exporting 20180403T030541_20180403T031957_T49PBN--->done\n",
      "exporting 20180413T030541_20180413T031057_T49PBN--->done\n",
      "exporting 20180423T030541_20180423T031503_T49PBN--->done\n",
      "exporting 20180428T030539_20180428T032437_T49PBN--->done\n",
      "exporting 20180508T030539_20180508T031153_T49PBN--->done\n",
      "exporting 20180518T030539_20180518T032230_T49PBN--->done\n",
      "exporting 20180607T030539_20180607T032215_T49PBN--->done\n",
      "exporting 20180622T030541_20180622T031034_T49PBN--->done\n",
      "exporting 20180707T030539_20180707T031902_T49PBN--->done\n",
      "exporting 20180801T030541_20180801T032012_T49PBN--->done\n",
      "exporting 20180831T030541_20180831T031152_T49PBN--->done\n",
      "exporting 20180905T030539_20180905T031854_T49PBN--->done\n",
      "exporting 20180925T030539_20180925T032406_T49PBN--->done\n",
      "exporting 20180930T030541_20180930T031150_T49PBN--->done\n",
      "exporting 20181010T030631_20181010T031209_T49PBN--->done\n",
      "exporting 20181025T030809_20181025T031436_T49PBN--->done\n",
      "exporting 20181030T030831_20181030T031435_T49PBN--->done\n",
      "exporting 20181104T030909_20181104T031306_T49PBN--->done\n",
      "exporting 20181129T031051_20181129T031648_T49PBN--->done\n",
      "exporting 20181204T031109_20181204T032310_T49PBN--->done\n",
      "exporting 20181209T031111_20181209T031714_T49PBN--->done\n",
      "exporting 20181219T031131_20181219T031727_T49PBN--->done\n",
      "exporting 20190108T031111_20190108T032310_T49PBN--->done\n",
      "exporting 20190113T031059_20190113T031703_T49PBN--->done\n",
      "exporting 20190128T031001_20190128T031602_T49PBN--->done\n",
      "exporting 20190202T030939_20190202T031413_T49PBN--->done\n",
      "exporting 20190207T030911_20190207T031859_T49PBN--->done\n",
      "exporting 20190212T030839_20190212T032044_T49PBN--->done\n",
      "exporting 20190217T030801_20190217T032232_T49PBN--->done\n",
      "exporting 20190222T030729_20190222T031329_T49PBN--->done\n",
      "exporting 20190227T030651_20190227T031435_T49PBN--->done\n",
      "exporting 20190304T030619_20190304T032047_T49PBN--->done\n",
      "exporting 20190309T030541_20190309T032019_T49PBN--->done\n",
      "exporting 20190314T030539_20190314T032229_T49PBN--->done\n"
     ]
    }
   ],
   "source": [
    "col_length = S2_col.size().getInfo()\n",
    "#print(col_length)\n",
    "\n",
    "for i in range(0,col_length):\n",
    "    #print(i)\n",
    "    list = S2_col.toList(col_length)\n",
    "    img = ee.Image(list.get(i))\n",
    "    func1(img)\n"
   ]
  },
  {
   "cell_type": "code",
   "execution_count": null,
   "metadata": {
    "collapsed": true
   },
   "outputs": [],
   "source": []
  }
 ],
 "metadata": {
  "kernelspec": {
   "display_name": "Python 3",
   "language": "python",
   "name": "python3"
  },
  "language_info": {
   "codemirror_mode": {
    "name": "ipython",
    "version": 3
   },
   "file_extension": ".py",
   "mimetype": "text/x-python",
   "name": "python",
   "nbconvert_exporter": "python",
   "pygments_lexer": "ipython3",
   "version": "3.6.0"
  }
 },
 "nbformat": 4,
 "nbformat_minor": 2
}
