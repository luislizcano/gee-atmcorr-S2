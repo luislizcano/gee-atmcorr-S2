{
 "cells": [
  {
   "cell_type": "code",
   "execution_count": 3,
   "metadata": {
    "collapsed": true
   },
   "outputs": [],
   "source": [
    "import ee\n",
    "from Py6S import *\n",
    "import datetime\n",
    "import math\n",
    "import os\n",
    "import sys\n",
    "sys.path.append(os.path.join(os.path.dirname(os.getcwd()),'bin'))\n",
    "from atmospheric import Atmospheric\n",
    "\n",
    "ee.Initialize()"
   ]
  },
  {
   "cell_type": "code",
   "execution_count": 28,
   "metadata": {
    "collapsed": true
   },
   "outputs": [],
   "source": [
    "def func1(img):\n",
    "    img = ee.Image(img)\n",
    "    info = img.getInfo()['properties']\n",
    "    scene_date = datetime.datetime.utcfromtimestamp(info['system:time_start']/1000)\n",
    "    solar_elv = img.getInfo()['properties']['SUN_ELEVATION']\n",
    "    solar_z = ee.Number(90).subtract(solar_elv).getInfo()\n",
    "    h2o = Atmospheric.water(geom,img.date()).getInfo()\n",
    "    o3 = Atmospheric.ozone(geom,img.date()).getInfo()\n",
    "    aot = Atmospheric.aerosol(geom,img.date()).getInfo()\n",
    "    SRTM = ee.Image('CGIAR/SRTM90_V4')# Shuttle Radar Topography mission covers *most* of the Earth\n",
    "    alt = SRTM.reduceRegion(reducer = ee.Reducer.mean(),geometry = geom.centroid()).get('elevation').getInfo()\n",
    "    km = alt/1000 # i.e. Py6S uses units of kilometers\n",
    "    # Instantiate\n",
    "    s = SixS()\n",
    "    # Atmospheric constituents\n",
    "    s.atmos_profile = AtmosProfile.UserWaterAndOzone(h2o,o3)\n",
    "    s.aero_profile = AeroProfile.Continental\n",
    "    s.aot550 = aot\n",
    "    # Earth-Sun-satellite geometry\n",
    "    s.geometry = Geometry.User()\n",
    "    s.geometry.view_z = 0               # always NADIR (I think..)\n",
    "    #s.geometry.solar_z = solar_z        # solar zenith angle\n",
    "    s.geometry.solar_z = solar_z # solar zenith angle\n",
    "    s.geometry.month = scene_date.month # month and day used for Earth-Sun distance\n",
    "    s.geometry.day = scene_date.day     # month and day used for Earth-Sun distance\n",
    "    s.altitudes.set_sensor_satellite_level()\n",
    "    s.altitudes.set_target_custom_altitude(km)\n",
    "    #Mission specific for atmospheric correction\n",
    "    #https://github.com/samsammurphy/ee-atmcorr-timeseries/blob/master/atmcorr/mission_specifics.py\n",
    "    def spectralResponseFunction(bandname):        \n",
    "        bandSelect = {\n",
    "            'B1':PredefinedWavelengths.LANDSAT_ETM_B1,\n",
    "            'B2':PredefinedWavelengths.LANDSAT_ETM_B2,\n",
    "            'B3':PredefinedWavelengths.LANDSAT_ETM_B3,\n",
    "            'B4':PredefinedWavelengths.LANDSAT_ETM_B4,\n",
    "            'B5':PredefinedWavelengths.LANDSAT_ETM_B5,\n",
    "            'B7':PredefinedWavelengths.LANDSAT_ETM_B7,\n",
    "                    }\n",
    "        return Wavelength(bandSelect[bandname])\n",
    "    def toa_to_rad(bandname):\n",
    "        ESUN_L8 = [1895.33, 2004.57, 1820.75, 1549.49, 951.76, 247.55, 85.46, 1723.8, 366.97]\n",
    "        ESUN_L7 = [1997, 1812, 1533, 1039, 230.8, 84.9] # PAN =  1362 (removed to match Py6S)\n",
    "        ESUN_BAND = {\n",
    "            'B1':ESUN_L7[0],\n",
    "            'B2':ESUN_L7[1],\n",
    "            'B3':ESUN_L7[2],\n",
    "            'B4':ESUN_L7[3],\n",
    "            'B5':ESUN_L7[4],            \n",
    "            'B7':ESUN_L7[5],\n",
    "           }\n",
    "        solar_angle_correction = math.cos(math.radians(solar_z))\n",
    "        # Earth-Sun distance (from day of year)\n",
    "        doy = scene_date.timetuple().tm_yday\n",
    "        d = 1 - 0.01672 * math.cos(0.9856 * (doy-4))# http://physics.stackexchange.com/questions/177949/earth-sun-distance-on-a-given-day-of-the-year\n",
    "        # conversion factor\n",
    "        multiplier = ESUN_BAND[bandname]*solar_angle_correction/(math.pi*d**2)\n",
    "        # at-sensor radiance\n",
    "        rad = img.select(bandname).multiply(multiplier)\n",
    "        return rad\n",
    "    def surface_reflectance(bandname):\n",
    "        # run 6S for this waveband\n",
    "        s.wavelength = spectralResponseFunction(bandname)\n",
    "        s.run()\n",
    "\n",
    "        # extract 6S outputs\n",
    "        Edir = s.outputs.direct_solar_irradiance             #direct solar irradiance\n",
    "        Edif = s.outputs.diffuse_solar_irradiance            #diffuse solar irradiance\n",
    "        Lp   = s.outputs.atmospheric_intrinsic_radiance      #path radiance\n",
    "        absorb  = s.outputs.trans['global_gas'].upward       #absorption transmissivity\n",
    "        scatter = s.outputs.trans['total_scattering'].upward #scattering transmissivity\n",
    "        tau2 = absorb*scatter                                #total transmissivity\n",
    "\n",
    "        # radiance to surface reflectance\n",
    "        rad = toa_to_rad(bandname)\n",
    "        ref = rad.subtract(Lp).multiply(math.pi).divide(tau2*(Edir+Edif))\n",
    "        return ref\n",
    "    \n",
    "    \n",
    "    blue = surface_reflectance('B1')\n",
    "    green = surface_reflectance('B2')\n",
    "    red = surface_reflectance('B3')\n",
    "    nir = surface_reflectance('B4')\n",
    "    swir1 = surface_reflectance('B5')\n",
    "    swir2 = surface_reflectance('B7')\n",
    "    \n",
    "    ref = img.select('BQA').addBands(blue).addBands(green).addBands(red).addBands(nir).addBands(swir1).addBands(swir2)\n",
    "    \n",
    "    dateString = scene_date.strftime(\"%Y-%m-%d\")\n",
    "    ref = ref.copyProperties(img).set({              \n",
    "                  'AC_date':dateString,\n",
    "                  'AC_aerosol_optical_thickness':aot,\n",
    "                  'AC_water_vapour':h2o,\n",
    "                  'AC_version':'py6S',\n",
    "                  'AC_contact':'ndminhhus@gmail.com',\n",
    "                  'AC_ozone':o3})\n",
    "    \n",
    "\n",
    "    # define YOUR assetID \n",
    "    # export\n",
    "\n",
    "    fname = ee.String(img.get('system:index')).getInfo()\n",
    "    export = ee.batch.Export.image.toAsset(\\\n",
    "        image=ref,\n",
    "        description= 'L7_BOA_'+fname,\n",
    "        assetId = 'users/ndminhhus/eLEAF/nt/L7_py6S/'+'L7_BOA'+fname,\n",
    "        region = region,\n",
    "        scale = 30,\n",
    "        maxPixels = 1e13)\n",
    "\n",
    "    # # uncomment to run the export\n",
    "    export.start()\n",
    "    print('exporting ' +fname + '--->done')"
   ]
  },
  {
   "cell_type": "code",
   "execution_count": 29,
   "metadata": {},
   "outputs": [],
   "source": [
    "startDate = ee.Date('2018-01-01')\n",
    "endDate = ee.Date('2020-01-01')\n",
    "geom = ee.Geometry.Point(108.91220182000018,11.700863529688942)# Ninh Thuan region\n",
    "region = geom.buffer(60000).bounds().getInfo()['coordinates']"
   ]
  },
  {
   "cell_type": "code",
   "execution_count": 30,
   "metadata": {
    "collapsed": true
   },
   "outputs": [],
   "source": [
    "# The Landsat 8 image collection\n",
    "L7_col = ee.ImageCollection('LANDSAT/LE07/C01/T1_TOA').filterBounds(geom).filterDate(startDate,endDate)"
   ]
  },
  {
   "cell_type": "code",
   "execution_count": 31,
   "metadata": {},
   "outputs": [
    {
     "name": "stdout",
     "output_type": "stream",
     "text": [
      "26\n"
     ]
    }
   ],
   "source": [
    "print(L7_col.size().getInfo())"
   ]
  },
  {
   "cell_type": "code",
   "execution_count": 25,
   "metadata": {
    "collapsed": true
   },
   "outputs": [],
   "source": [
    "L7_list = L7_col.toList(L7_col.size().getInfo())\n",
    "img1 = ee.Image(L7_list.get(9))"
   ]
  },
  {
   "cell_type": "code",
   "execution_count": 26,
   "metadata": {},
   "outputs": [],
   "source": [
    "toa = img1\n",
    "boa = ee.Image(func1(toa))"
   ]
  },
  {
   "cell_type": "code",
   "execution_count": 33,
   "metadata": {},
   "outputs": [
    {
     "name": "stdout",
     "output_type": "stream",
     "text": [
      "2018-07-05\n"
     ]
    }
   ],
   "source": [
    "print(boa.getInfo()['properties']['AC_date'])"
   ]
  },
  {
   "cell_type": "code",
   "execution_count": 106,
   "metadata": {},
   "outputs": [
    {
     "data": {
      "text/html": [
       "<img src=\"https://earthengine.googleapis.com/api/thumb?thumbid=f8a48dbc6f83498c9d374a8136b1456d&token=42d881276d6dead6f8e9e798eacaa61b\"/>"
      ],
      "text/plain": [
       "<IPython.core.display.Image object>"
      ]
     },
     "metadata": {},
     "output_type": "display_data"
    },
    {
     "data": {
      "text/html": [
       "<img src=\"https://earthengine.googleapis.com/api/thumb?thumbid=69dd27f8a931c2963c042a86390ddaa7&token=de65772f3fb2d470a980883df90cbbf1\"/>"
      ],
      "text/plain": [
       "<IPython.core.display.Image object>"
      ]
     },
     "metadata": {},
     "output_type": "display_data"
    }
   ],
   "source": [
    "from IPython.display import display, Image\n",
    "\n",
    "channels = ['B3','B2','B1']\n",
    "\n",
    "original = Image(url=toa.select(channels).getThumbUrl({\n",
    "                'region':region,\n",
    "                'min':0,\n",
    "                'max':0.25\n",
    "                }))\n",
    "\n",
    "corrected = Image(url=ee.Image(boa).select(channels).getThumbUrl({\n",
    "                'region':region,\n",
    "                'min':0,\n",
    "                'max':0.25\n",
    "                }))\n",
    "\n",
    "display(original, corrected)"
   ]
  },
  {
   "cell_type": "code",
   "execution_count": 32,
   "metadata": {},
   "outputs": [
    {
     "name": "stdout",
     "output_type": "stream",
     "text": [
      "exporting LE07_123052_20180110--->done\n",
      "exporting LE07_123052_20180126--->done\n",
      "exporting LE07_123052_20180211--->done\n",
      "exporting LE07_123052_20180227--->done\n",
      "exporting LE07_123052_20180315--->done\n",
      "exporting LE07_123052_20180331--->done\n",
      "exporting LE07_123052_20180502--->done\n",
      "exporting LE07_123052_20180518--->done\n",
      "exporting LE07_123052_20180619--->done\n",
      "exporting LE07_123052_20180705--->done\n",
      "exporting LE07_123052_20180721--->done\n",
      "exporting LE07_123052_20180822--->done\n",
      "exporting LE07_123052_20180907--->done\n",
      "exporting LE07_123052_20180923--->done\n",
      "exporting LE07_123052_20181009--->done\n",
      "exporting LE07_123052_20181025--->done\n",
      "exporting LE07_123052_20181110--->done\n",
      "exporting LE07_123052_20181212--->done\n",
      "exporting LE07_123052_20190113--->done\n",
      "exporting LE07_123052_20190214--->done\n",
      "exporting LE07_123052_20190302--->done\n",
      "exporting LE07_123052_20190318--->done\n",
      "exporting LE07_123052_20190403--->done\n",
      "exporting LE07_123052_20190419--->done\n",
      "exporting LE07_123052_20190505--->done\n",
      "exporting LE07_123052_20190521--->done\n"
     ]
    }
   ],
   "source": [
    "col_length = L7_col.size().getInfo()\n",
    "#print(col_length)\n",
    "\n",
    "for i in range(0,col_length):\n",
    "    #print(i)\n",
    "    list = L7_col.toList(col_length)\n",
    "    img = ee.Image(list.get(i))\n",
    "    func1(img)\n"
   ]
  },
  {
   "cell_type": "code",
   "execution_count": null,
   "metadata": {
    "collapsed": true
   },
   "outputs": [],
   "source": []
  }
 ],
 "metadata": {
  "kernelspec": {
   "display_name": "Python 3",
   "language": "python",
   "name": "python3"
  },
  "language_info": {
   "codemirror_mode": {
    "name": "ipython",
    "version": 3
   },
   "file_extension": ".py",
   "mimetype": "text/x-python",
   "name": "python",
   "nbconvert_exporter": "python",
   "pygments_lexer": "ipython3",
   "version": "3.6.0"
  }
 },
 "nbformat": 4,
 "nbformat_minor": 2
}
